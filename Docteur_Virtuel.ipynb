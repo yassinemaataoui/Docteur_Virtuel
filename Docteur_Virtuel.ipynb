{
  "cells": [
    {
      "cell_type": "markdown",
      "metadata": {
        "id": "LAFwDM4hOCoO"
      },
      "source": [
        "# **🩺 Docteur Virtuel — Triage تعليمي**"
      ]
    },
    {
      "cell_type": "markdown",
      "metadata": {
        "id": "oHZ5lbtwSsEi"
      },
      "source": [
        "**créer un environnement virtuel**"
      ]
    },
    {
      "cell_type": "markdown",
      "metadata": {
        "id": "exK_9HFiTM58"
      },
      "source": [
        "**activer l’environnemen**"
      ]
    },
    {
      "cell_type": "markdown",
      "metadata": {
        "id": "4sdL5dFrTWJS"
      },
      "source": [
        "**mettre à jour pip**"
      ]
    },
    {
      "cell_type": "markdown",
      "metadata": {
        "id": "zNRl4-0fTdsX"
      },
      "source": [
        "**installer toutes les bibliothèques nécessaires au projet**"
      ]
    },
    {
      "cell_type": "code",
      "execution_count": 9,
      "metadata": {
        "id": "vp94zqHoRPoe",
        "colab": {
          "base_uri": "https://localhost:8080/"
        },
        "outputId": "59e51e9a-b7bd-4d02-8eb2-1e48b301e84a"
      },
      "outputs": [
        {
          "output_type": "stream",
          "name": "stdout",
          "text": [
            "/bin/bash: line 1: py: command not found\n",
            "/bin/bash: line 1: ..venvScriptsActivate.ps1: No such file or directory\n",
            "Requirement already satisfied: pip in /usr/local/lib/python3.12/dist-packages (25.2)\n",
            "Collecting streamlit (from -r requirements.txt (line 1))\n",
            "  Downloading streamlit-1.48.1-py3-none-any.whl.metadata (9.5 kB)\n",
            "Collecting rapidfuzz (from -r requirements.txt (line 2))\n",
            "  Downloading rapidfuzz-3.13.0-cp312-cp312-manylinux_2_17_x86_64.manylinux2014_x86_64.whl.metadata (12 kB)\n",
            "Requirement already satisfied: altair!=5.4.0,!=5.4.1,<6,>=4.0 in /usr/local/lib/python3.12/dist-packages (from streamlit->-r requirements.txt (line 1)) (5.5.0)\n",
            "Requirement already satisfied: blinker<2,>=1.5.0 in /usr/local/lib/python3.12/dist-packages (from streamlit->-r requirements.txt (line 1)) (1.9.0)\n",
            "Requirement already satisfied: cachetools<7,>=4.0 in /usr/local/lib/python3.12/dist-packages (from streamlit->-r requirements.txt (line 1)) (5.5.2)\n",
            "Requirement already satisfied: click<9,>=7.0 in /usr/local/lib/python3.12/dist-packages (from streamlit->-r requirements.txt (line 1)) (8.2.1)\n",
            "Requirement already satisfied: numpy<3,>=1.23 in /usr/local/lib/python3.12/dist-packages (from streamlit->-r requirements.txt (line 1)) (2.0.2)\n",
            "Requirement already satisfied: packaging<26,>=20 in /usr/local/lib/python3.12/dist-packages (from streamlit->-r requirements.txt (line 1)) (25.0)\n",
            "Requirement already satisfied: pandas<3,>=1.4.0 in /usr/local/lib/python3.12/dist-packages (from streamlit->-r requirements.txt (line 1)) (2.2.2)\n",
            "Requirement already satisfied: pillow<12,>=7.1.0 in /usr/local/lib/python3.12/dist-packages (from streamlit->-r requirements.txt (line 1)) (11.3.0)\n",
            "Requirement already satisfied: protobuf<7,>=3.20 in /usr/local/lib/python3.12/dist-packages (from streamlit->-r requirements.txt (line 1)) (5.29.5)\n",
            "Requirement already satisfied: pyarrow>=7.0 in /usr/local/lib/python3.12/dist-packages (from streamlit->-r requirements.txt (line 1)) (18.1.0)\n",
            "Requirement already satisfied: requests<3,>=2.27 in /usr/local/lib/python3.12/dist-packages (from streamlit->-r requirements.txt (line 1)) (2.32.4)\n",
            "Requirement already satisfied: tenacity<10,>=8.1.0 in /usr/local/lib/python3.12/dist-packages (from streamlit->-r requirements.txt (line 1)) (8.5.0)\n",
            "Requirement already satisfied: toml<2,>=0.10.1 in /usr/local/lib/python3.12/dist-packages (from streamlit->-r requirements.txt (line 1)) (0.10.2)\n",
            "Requirement already satisfied: typing-extensions<5,>=4.4.0 in /usr/local/lib/python3.12/dist-packages (from streamlit->-r requirements.txt (line 1)) (4.14.1)\n",
            "Requirement already satisfied: watchdog<7,>=2.1.5 in /usr/local/lib/python3.12/dist-packages (from streamlit->-r requirements.txt (line 1)) (6.0.0)\n",
            "Requirement already satisfied: gitpython!=3.1.19,<4,>=3.0.7 in /usr/local/lib/python3.12/dist-packages (from streamlit->-r requirements.txt (line 1)) (3.1.45)\n",
            "Collecting pydeck<1,>=0.8.0b4 (from streamlit->-r requirements.txt (line 1))\n",
            "  Downloading pydeck-0.9.1-py2.py3-none-any.whl.metadata (4.1 kB)\n",
            "Requirement already satisfied: tornado!=6.5.0,<7,>=6.0.3 in /usr/local/lib/python3.12/dist-packages (from streamlit->-r requirements.txt (line 1)) (6.4.2)\n",
            "Requirement already satisfied: jinja2 in /usr/local/lib/python3.12/dist-packages (from altair!=5.4.0,!=5.4.1,<6,>=4.0->streamlit->-r requirements.txt (line 1)) (3.1.6)\n",
            "Requirement already satisfied: jsonschema>=3.0 in /usr/local/lib/python3.12/dist-packages (from altair!=5.4.0,!=5.4.1,<6,>=4.0->streamlit->-r requirements.txt (line 1)) (4.25.1)\n",
            "Requirement already satisfied: narwhals>=1.14.2 in /usr/local/lib/python3.12/dist-packages (from altair!=5.4.0,!=5.4.1,<6,>=4.0->streamlit->-r requirements.txt (line 1)) (2.1.2)\n",
            "Requirement already satisfied: gitdb<5,>=4.0.1 in /usr/local/lib/python3.12/dist-packages (from gitpython!=3.1.19,<4,>=3.0.7->streamlit->-r requirements.txt (line 1)) (4.0.12)\n",
            "Requirement already satisfied: smmap<6,>=3.0.1 in /usr/local/lib/python3.12/dist-packages (from gitdb<5,>=4.0.1->gitpython!=3.1.19,<4,>=3.0.7->streamlit->-r requirements.txt (line 1)) (5.0.2)\n",
            "Requirement already satisfied: python-dateutil>=2.8.2 in /usr/local/lib/python3.12/dist-packages (from pandas<3,>=1.4.0->streamlit->-r requirements.txt (line 1)) (2.9.0.post0)\n",
            "Requirement already satisfied: pytz>=2020.1 in /usr/local/lib/python3.12/dist-packages (from pandas<3,>=1.4.0->streamlit->-r requirements.txt (line 1)) (2025.2)\n",
            "Requirement already satisfied: tzdata>=2022.7 in /usr/local/lib/python3.12/dist-packages (from pandas<3,>=1.4.0->streamlit->-r requirements.txt (line 1)) (2025.2)\n",
            "Requirement already satisfied: charset_normalizer<4,>=2 in /usr/local/lib/python3.12/dist-packages (from requests<3,>=2.27->streamlit->-r requirements.txt (line 1)) (3.4.3)\n",
            "Requirement already satisfied: idna<4,>=2.5 in /usr/local/lib/python3.12/dist-packages (from requests<3,>=2.27->streamlit->-r requirements.txt (line 1)) (3.10)\n",
            "Requirement already satisfied: urllib3<3,>=1.21.1 in /usr/local/lib/python3.12/dist-packages (from requests<3,>=2.27->streamlit->-r requirements.txt (line 1)) (2.5.0)\n",
            "Requirement already satisfied: certifi>=2017.4.17 in /usr/local/lib/python3.12/dist-packages (from requests<3,>=2.27->streamlit->-r requirements.txt (line 1)) (2025.8.3)\n",
            "Requirement already satisfied: MarkupSafe>=2.0 in /usr/local/lib/python3.12/dist-packages (from jinja2->altair!=5.4.0,!=5.4.1,<6,>=4.0->streamlit->-r requirements.txt (line 1)) (3.0.2)\n",
            "Requirement already satisfied: attrs>=22.2.0 in /usr/local/lib/python3.12/dist-packages (from jsonschema>=3.0->altair!=5.4.0,!=5.4.1,<6,>=4.0->streamlit->-r requirements.txt (line 1)) (25.3.0)\n",
            "Requirement already satisfied: jsonschema-specifications>=2023.03.6 in /usr/local/lib/python3.12/dist-packages (from jsonschema>=3.0->altair!=5.4.0,!=5.4.1,<6,>=4.0->streamlit->-r requirements.txt (line 1)) (2025.4.1)\n",
            "Requirement already satisfied: referencing>=0.28.4 in /usr/local/lib/python3.12/dist-packages (from jsonschema>=3.0->altair!=5.4.0,!=5.4.1,<6,>=4.0->streamlit->-r requirements.txt (line 1)) (0.36.2)\n",
            "Requirement already satisfied: rpds-py>=0.7.1 in /usr/local/lib/python3.12/dist-packages (from jsonschema>=3.0->altair!=5.4.0,!=5.4.1,<6,>=4.0->streamlit->-r requirements.txt (line 1)) (0.27.0)\n",
            "Requirement already satisfied: six>=1.5 in /usr/local/lib/python3.12/dist-packages (from python-dateutil>=2.8.2->pandas<3,>=1.4.0->streamlit->-r requirements.txt (line 1)) (1.17.0)\n",
            "Downloading streamlit-1.48.1-py3-none-any.whl (9.9 MB)\n",
            "\u001b[2K   \u001b[90m━━━━━━━━━━━━━━━━━━━━━━━━━━━━━━━━━━━━━━━━\u001b[0m \u001b[32m9.9/9.9 MB\u001b[0m \u001b[31m89.0 MB/s\u001b[0m  \u001b[33m0:00:00\u001b[0m\n",
            "\u001b[?25hDownloading pydeck-0.9.1-py2.py3-none-any.whl (6.9 MB)\n",
            "\u001b[2K   \u001b[90m━━━━━━━━━━━━━━━━━━━━━━━━━━━━━━━━━━━━━━━━\u001b[0m \u001b[32m6.9/6.9 MB\u001b[0m \u001b[31m94.5 MB/s\u001b[0m  \u001b[33m0:00:00\u001b[0m\n",
            "\u001b[?25hDownloading rapidfuzz-3.13.0-cp312-cp312-manylinux_2_17_x86_64.manylinux2014_x86_64.whl (3.1 MB)\n",
            "\u001b[2K   \u001b[90m━━━━━━━━━━━━━━━━━━━━━━━━━━━━━━━━━━━━━━━━\u001b[0m \u001b[32m3.1/3.1 MB\u001b[0m \u001b[31m108.6 MB/s\u001b[0m  \u001b[33m0:00:00\u001b[0m\n",
            "\u001b[?25hInstalling collected packages: rapidfuzz, pydeck, streamlit\n",
            "\u001b[2K   \u001b[90m━━━━━━━━━━━━━━━━━━━━━━━━━━━━━━━━━━━━━━━━\u001b[0m \u001b[32m3/3\u001b[0m [streamlit]\n",
            "\u001b[1A\u001b[2KSuccessfully installed pydeck-0.9.1 rapidfuzz-3.13.0 streamlit-1.48.1\n"
          ]
        }
      ],
      "source": [
        "!py -3.10 -m venv .venv\n",
        "!. .\\.venv\\Scripts\\Activate.ps1\n",
        "!python -m pip install --upgrade pip\n",
        "!pip install -r requirements.txt"
      ]
    },
    {
      "cell_type": "markdown",
      "metadata": {
        "id": "Hy6Sgen_OZGs"
      },
      "source": [
        "**requirements.txt:file**"
      ]
    },
    {
      "cell_type": "code",
      "execution_count": 10,
      "metadata": {
        "id": "lnFn1J0ykM3t",
        "colab": {
          "base_uri": "https://localhost:8080/"
        },
        "outputId": "251d4090-f65d-4ecf-8e4d-129908ea9fa7"
      },
      "outputs": [
        {
          "output_type": "stream",
          "name": "stdout",
          "text": [
            "Overwriting requirements.txt\n"
          ]
        }
      ],
      "source": [
        "%%writefile requirements.txt\n",
        "streamlit\n",
        "rapidfuzz"
      ]
    },
    {
      "cell_type": "markdown",
      "metadata": {
        "id": "naG9xZkHPGNI"
      },
      "source": [
        " **kb.json:file**"
      ]
    },
    {
      "cell_type": "code",
      "execution_count": 11,
      "metadata": {
        "id": "_4p4WNS-j70S",
        "colab": {
          "base_uri": "https://localhost:8080/"
        },
        "outputId": "93f64d58-cdb8-4ec9-911c-9741303d7b82"
      },
      "outputs": [
        {
          "output_type": "stream",
          "name": "stdout",
          "text": [
            "Overwriting kb.json\n"
          ]
        }
      ],
      "source": [
        "%%writefile kb.json\n",
        "{\n",
        "  \"conditions\": [\n",
        "    {\n",
        "      \"id\": \"cold\",\n",
        "      \"name\": \"نزلة برد (Rhume)\",\n",
        "      \"core\": [\"زكام\", \"رشح\", \"nez qui coule\", \"rhume\", \"سيلان الأنف\"],\n",
        "      \"other\": [\"عطس\", \"عيا\", \"fatigue\", \"mal de gorge\", \"حلاقم\", \"صداع خفيف\"],\n",
        "      \"advice\": \"راحة، سوائل دافئة، باراسيتامول حسب الحاجة، ماء البحر للأنف. راقب التطور خلال 3 أيام.\",\n",
        "      \"red_flags\": [],\n",
        "      \"risk_modifiers\": {\"age_gt_65\": 1}\n",
        "    },\n",
        "    {\n",
        "      \"id\": \"flu\",\n",
        "      \"name\": \"إنفلونزا (Grippe)\",\n",
        "      \"core\": [\"fièvre\", \"سخانة\", \"حرارة\", \"courbatures\", \"آلام جسم\"],\n",
        "      \"other\": [\"قشعريرة\", \"تعب شديد\", \"كحة\", \"سعال\"],\n",
        "      \"advice\": \"راحة تامة، شرب الماء، خافض حرارة، وراقب الحرارة. إذا ما تحسّنتش خلال 72 ساعة، استشر الطبيب.\",\n",
        "      \"red_flags\": [\"صعوبة تنفس\", \"ضيق نفس\", \"ألم صدر قوي\"],\n",
        "      \"risk_modifiers\": {\"pregnant\": 2, \"chronic\": 1}\n",
        "    },\n",
        "    {\n",
        "      \"id\": \"covid\",\n",
        "      \"name\": \"كوفيد-19\",\n",
        "      \"core\": [\"سعال\", \"كحة\", \"fièvre\", \"سخانة\", \"فقدان الشم\", \"perte d'odorat\", \"فقدان الذوق\", \"perte du goût\"],\n",
        "      \"other\": [\"تعب\", \"fatigue\", \"mal de gorge\", \"حلاقم\", \"أوجاع جسم\"],\n",
        "      \"advice\": \"عزل، كمامة، سوائل، خافض حرارة. إذا عندك عوامل خطورة أو ما تحسّنتش، تواصل مع طبيب.\",\n",
        "      \"red_flags\": [\"ضيق نفس\", \"تشبع أكسجين منخفض\", \"ألم صدر\", \"ارتباك شديد\"],\n",
        "      \"risk_modifiers\": {\"age_gt_65\": 2, \"pregnant\": 2, \"chronic\": 2}\n",
        "    },\n",
        "    {\n",
        "      \"id\": \"gastro\",\n",
        "      \"name\": \"التهاب معدة/أمعاء (Gastro)\",\n",
        "      \"core\": [\"إسهال\", \"diarrhée\", \"قيء\", \"vomissement\", \"مغص\", \"douleur abdominale\"],\n",
        "      \"other\": [\"غثيان\", \"nausée\", \"تعب\"],\n",
        "      \"advice\": \"محاليل إماهة، تجنّب الدهنيات، وجبات صغيرة. إذا استمر أكثر من 48h أو صارت دم في البراز، راجع الطبيب.\",\n",
        "      \"red_flags\": [\"جفاف شديد\", \"دم في البراز\", \"ألم بطن شديد متواصل\", \"حمى عالية مطوّلة\"],\n",
        "      \"risk_modifiers\": {\"age_lt_5\": 2, \"age_gt_65\": 2}\n",
        "    },\n",
        "    {\n",
        "      \"id\": \"migraine\",\n",
        "      \"name\": \"شقيقة (Migraine)\",\n",
        "      \"core\": [\"صداع جهة وحدة\", \"mal de tête pulsatile\", \"حساسية للضوء\", \"nausée\"],\n",
        "      \"other\": [\"قيء\", \"تعب\"],\n",
        "      \"advice\": \"مكان مظلم وهادئ، ماء كفاية، مسكّن مناسب إذا ما عندكش مانع. إذا جديدة وعنيفة بزاف، استشر الطبيب.\",\n",
        "      \"red_flags\": [\"أسوأ صداع بحياتك\", \"تيبّس الرقبة\", \"اضطراب وعي\", \"عجز عصبي مفاجئ\"],\n",
        "      \"risk_modifiers\": {}\n",
        "    },\n",
        "    {\n",
        "      \"id\": \"uti\",\n",
        "      \"name\": \"التهاب المسالك البولية (UTI)\",\n",
        "      \"core\": [\"حرقان بول\", \"brûlure en urinant\", \"تبول متكرر\", \"envie fréquente d'uriner\"],\n",
        "      \"other\": [\"بول كدر\", \"douleur bas ventre\"],\n",
        "      \"advice\": \"إكثار السوائل، مسكّن خفيف، تحليل بول إذا استمرت الأعراض. استشر طبيبًا لو ظهرت حمى أو ألم بالجنب.\",\n",
        "      \"red_flags\": [\"حمى\", \"Douleur au flanc\", \"آلام في الجنب\", \"حمل\"],\n",
        "      \"risk_modifiers\": {\"pregnant\": 3}\n",
        "    },\n",
        "    {\n",
        "      \"id\": \"asthma\",\n",
        "      \"name\": \"ربو (Asthme)\",\n",
        "      \"core\": [\"صفير\", \"sifflement\", \"ضيق نفس\", \"dyspnée\", \"كحة ليلية\"],\n",
        "      \"other\": [\"ثقل صدر\", \"oppression thoracique\"],\n",
        "      \"advice\": \"استعمل البخاخ الموصوف. إذا ما كانش تحسن أو عندك نوبة شديدة، توجه للطوارئ.\",\n",
        "      \"red_flags\": [\"ضيق نفس شديد\", \"انقطاع كلام\", \"زرقة الشفاه\"],\n",
        "      \"risk_modifiers\": {\"chronic\": 1}\n",
        "    },\n",
        "    {\n",
        "      \"id\": \"allergy\",\n",
        "      \"name\": \"حساسية (Allergie)\",\n",
        "      \"core\": [\"حكة\", \"démangeaisons\", \"طفح جلدي\", \"urticaire\", \"عطس\", \"nez qui coule\"],\n",
        "      \"other\": [\"عينان دامعتان\", \"yeux larmoyants\"],\n",
        "      \"advice\": \"تجنب المحفّز، مضاد هيستامين بسيط إذا مناسب. إذا تورم الوجه/اللسان أو صعوبة تنفس، طوارئ.\",\n",
        "      \"red_flags\": [\"تورم شديد\", \"أزيز مع ضيق نفس\", \"anaphylaxie\"],\n",
        "      \"risk_modifiers\": {}\n",
        "    },\n",
        "    {\n",
        "      \"id\": \"food_poison\",\n",
        "      \"name\": \"تسمم غذائي\",\n",
        "      \"core\": [\"إسهال بعد الأكل\", \"diarrhée après repas\", \"قيء بعد الأكل\", \"douleur abdominale بعد الأكل\"],\n",
        "      \"other\": [\"غثيان\", \"nausée\", \"حمى خفيفة\"],\n",
        "      \"advice\": \"سوائل ومحاليل، راقب العلامات التحذيرية، استشر الطبيب إذا استمر >48h أو وجدت دم في البراز.\",\n",
        "      \"red_flags\": [\"دم في البراز\", \"جفاف شديد\"],\n",
        "      \"risk_modifiers\": {\"age_lt_5\": 2, \"age_gt_65\": 2}\n",
        "    },\n",
        "    {\n",
        "      \"id\": \"hypertension\",\n",
        "      \"name\": \"ارتفاع ضغط الدم (عرضي)\",\n",
        "      \"core\": [\"صداع مع قياس ضغط مرتفع\", \"tension élevée\"],\n",
        "      \"other\": [\"طنين\", \"دوخة\"],\n",
        "      \"advice\": \"قِس الضغط بهدوء بعد 5 دقائق جلوس. إذا أرقام شديدة الارتفاع مع ألم صدر/ضيق نفس/عجز عصبي → طوارئ.\",\n",
        "      \"red_flags\": [\"ألم صدر\", \"عجز عصبي\", \"ضيق نفس\"],\n",
        "      \"risk_modifiers\": {\"chronic\": 1, \"age_gt_65\": 1}\n",
        "    }\n",
        "  ],\n",
        "  \"global_red_flags\": [\n",
        "    \"ضيق نفس\", \"ألم صدر شديد\", \"ارتباك\", \"زرقة الشفاه\", \"تيبّس الرقبة\",\n",
        "    \"قيء متواصل\", \"جفاف شديد\", \"إغماء\", \"نزيف\", \"حمى فوق 39.5 أكثر من 3 أيام\",\n",
        "    \"شلل مفاجئ\", \"ألم بطن شديد مستمر\"\n",
        "  ],\n",
        "  \"negations\": [\"ماشي\", \"مكينش\", \"بدون\", \"pas\", \"sans\", \"not\", \"no\"]\n",
        "}"
      ]
    },
    {
      "cell_type": "markdown",
      "metadata": {
        "id": "MgvWPp26QbYv"
      },
      "source": [
        "**app.py:file**"
      ]
    },
    {
      "cell_type": "code",
      "execution_count": 12,
      "metadata": {
        "id": "ayhQrYUSkZ57",
        "colab": {
          "base_uri": "https://localhost:8080/"
        },
        "outputId": "1421ae2b-7f0e-4ed2-edd8-92ac9ca3a3bf"
      },
      "outputs": [
        {
          "output_type": "stream",
          "name": "stdout",
          "text": [
            "Overwriting app.py\n"
          ]
        }
      ],
      "source": [
        "%%writefile app.py\n",
        "import json, re\n",
        "from pathlib import Path\n",
        "from rapidfuzz import fuzz\n",
        "import streamlit as st\n",
        "\n",
        "KB_PATH = Path(__file__).with_name(\"kb.json\")\n",
        "\n",
        "def normalize(t: str) -> str:\n",
        "    if not t:\n",
        "        return \"\"\n",
        "    t = t.lower()\n",
        "    # simplifier les mots arabes\n",
        "    t = re.sub(r'[\\u0617-\\u061A\\u064B-\\u0652\\u0670\\u06D6-\\u06ED\\u0640]', '', t)\n",
        "    # simplifier les mots français\n",
        "    repl = str.maketrans(\"éèêàâîïôûùç\", \"eeeaaio uuc\")\n",
        "    t = t.translate(repl)\n",
        "    # éléminer les symboles\n",
        "    t = re.sub(r'[^a-z\\u0600-\\u06FF0-9\\s]', ' ', t)\n",
        "    # éviter les espaces\n",
        "    t = re.sub(r'\\s+', ' ', t).strip()\n",
        "    return t\n",
        "\n",
        "@st.cache_data\n",
        "def load_kb():\n",
        "    data = json.loads(KB_PATH.read_text(encoding=\"utf-8\"))\n",
        "    # faire normalize\n",
        "    for c in data[\"conditions\"]:\n",
        "        c[\"core_norm\"]  = [normalize(p) for p in c.get(\"core\", [])]\n",
        "        c[\"other_norm\"] = [normalize(p) for p in c.get(\"other\", [])]\n",
        "        c[\"red_norm\"]   = [normalize(p) for p in c.get(\"red_flags\", [])]\n",
        "    data[\"global_red_norm\"] = [normalize(p) for p in data.get(\"global_red_flags\", [])]\n",
        "    return data\n",
        "\n",
        "def any_red_flags(user_txt, kb):\n",
        "    txt = normalize(user_txt)\n",
        "    for p in kb[\"global_red_norm\"]:\n",
        "        if fuzz.partial_ratio(p, txt) >= 85:\n",
        "            return True, p\n",
        "    for c in kb[\"conditions\"]:\n",
        "        for p in c[\"red_norm\"]:\n",
        "            if fuzz.partial_ratio(p, txt) >= 85:\n",
        "                return True, p\n",
        "    return False, None\n",
        "\n",
        "def score_condition(user_txt, cond):\n",
        "    txt = normalize(user_txt)\n",
        "    score = 0\n",
        "    hits = []\n",
        "    for p in cond[\"core_norm\"]:\n",
        "        if fuzz.partial_ratio(p, txt) >= 82:\n",
        "            score += 2\n",
        "            hits.append(p)\n",
        "    for p in cond[\"other_norm\"]:\n",
        "        if fuzz.partial_ratio(p, txt) >= 82:\n",
        "            score += 1\n",
        "            hits.append(p)\n",
        "    return score, hits\n",
        "\n",
        "#créer une interface de site web\n",
        "def main():\n",
        "    st.set_page_config(page_title=\"Docteur Virtuel (Triage)\", page_icon=\"🩺\")\n",
        "    st.title(\"🩺 Docteur Virtuel — Triage تعليمي\")\n",
        "    st.caption(\"⚠️ غير موجّه للتشخيص النهائي. لأي حالة خطيرة أو شك، تواصل مع طبيب/الإسعاف فورًا.\")\n",
        "\n",
        "    kb = load_kb()\n",
        "\n",
        "    st.subheader(\"دخل الأعراض ديالك (دارجة/عربية/فرنسية)\")\n",
        "    default_hint = \"مثال: سخانة وكحة وحلاقم من البارح... / fièvre + toux + mal de gorge depuis hier\"\n",
        "    user_txt = st.text_area(\"أعراضك:\", value=\"\", placeholder=default_hint, height=120)\n",
        "\n",
        "    if st.button(\"شوف الاحتمالات\"):\n",
        "        if not user_txt.strip():\n",
        "            st.warning(\"كتب شي أعراض باش نقدر نحلّل.\")\n",
        "            return\n",
        "\n",
        "        # red flags\n",
        "        red, phrase = any_red_flags(user_txt, kb)\n",
        "        if red:\n",
        "            st.error(\"🔴 كاين عرض خطير! من الأفضل تتواصل مع الإسعاف/طبيب حالًا.\")\n",
        "            st.write(f\"عبارة مطابقة تم رصدها: **{phrase}**\")\n",
        "\n",
        "        # calculer le score pour vérifier les symptomes\n",
        "        scored = []\n",
        "        for c in kb[\"conditions\"]:\n",
        "            s, hits = score_condition(user_txt, c)\n",
        "            if s > 0:\n",
        "                scored.append({\"id\": c[\"id\"], \"name\": c[\"name\"], \"score\": s, \"hits\": hits, \"advice\": c[\"advice\"]})\n",
        "\n",
        "        if not scored:\n",
        "            st.info(\"ما لقيتش تطابق واضح. حاول توضّح الأعراض (المدة، الشدة، واش كاين حمى...).\")\n",
        "            return\n",
        "\n",
        "        # Trier et afficher les résultats\n",
        "        scored.sort(key=lambda x: x[\"score\"], reverse=True)\n",
        "        total = sum(x[\"score\"] for x in scored) or 1\n",
        "        st.subheader(\"👩‍⚕️ أقرب الاحتمالات (تقدير أولي)\")\n",
        "        for i, x in enumerate(scored[:3], start=1):\n",
        "            pct = round((x[\"score\"] / total) * 100)\n",
        "            st.write(f\"**{i}. {x['name']}** — تقدير: ~{pct}%\")\n",
        "            if x[\"hits\"]:\n",
        "                st.caption(\"تطابق مع: \" + \", \".join(x[\"hits\"]))\n",
        "            with st.expander(\"نصيحة أولية\"):\n",
        "                st.write(x[\"advice\"])\n",
        "\n",
        "        st.divider()\n",
        "        st.write(\"🔎 *نصيحة عامة:* راقب الأعراض خلال 48–72 ساعة. إذا ساءت الحالة أو ظهرت أعلام حمراء، تواصل فورًا مع طبيب/الإسعاف.\")\n",
        "\n",
        "if __name__ == \"__main__\":\n",
        "    main()\n"
      ]
    },
    {
      "cell_type": "markdown",
      "source": [
        "**Lancer le programme**"
      ],
      "metadata": {
        "id": "y_yJAgeABYRt"
      }
    },
    {
      "cell_type": "code",
      "execution_count": null,
      "metadata": {
        "colab": {
          "base_uri": "https://localhost:8080/"
        },
        "id": "Cv_wvBOMky0X",
        "outputId": "3d938679-f45c-4509-aa14-1cbdb7cadb3f"
      },
      "outputs": [
        {
          "output_type": "stream",
          "name": "stdout",
          "text": [
            "\n",
            "Collecting usage statistics. To deactivate, set browser.gatherUsageStats to false.\n",
            "\u001b[0m\n",
            "\u001b[0m\n",
            "\u001b[34m\u001b[1m  You can now view your Streamlit app in your browser.\u001b[0m\n",
            "\u001b[0m\n",
            "\u001b[34m  Local URL: \u001b[0m\u001b[1mhttp://localhost:8501\u001b[0m\n",
            "\u001b[34m  Network URL: \u001b[0m\u001b[1mhttp://172.28.0.12:8501\u001b[0m\n",
            "\u001b[34m  External URL: \u001b[0m\u001b[1mhttp://34.23.99.197:8501\u001b[0m\n",
            "\u001b[0m\n"
          ]
        }
      ],
      "source": [
        "!streamlit run app.py"
      ]
    }
  ],
  "metadata": {
    "colab": {
      "provenance": []
    },
    "kernelspec": {
      "display_name": "Python 3",
      "name": "python3"
    },
    "language_info": {
      "name": "python"
    }
  },
  "nbformat": 4,
  "nbformat_minor": 0
}